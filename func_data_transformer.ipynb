{
 "cells": [
  {
   "cell_type": "code",
   "execution_count": 2,
   "metadata": {},
   "outputs": [],
   "source": [
    "import pandas as pd\n",
    "import numpy as np\n",
    "from os import listdir"
   ]
  },
  {
   "cell_type": "code",
   "execution_count": 93,
   "metadata": {},
   "outputs": [],
   "source": [
    "myfiles = listdir(\"/Users/jonasmiosga/Desktop/EY Skills/csvs\")[1:]"
   ]
  },
  {
   "cell_type": "code",
   "execution_count": 94,
   "metadata": {},
   "outputs": [
    {
     "data": {
      "text/plain": [
       "['pi_customer.csv',\n",
       " 'Risk_FSRM.csv',\n",
       " 'PAS_Talent.csv',\n",
       " 'PAS_Performance.csv',\n",
       " 'PAS_Systems.csv',\n",
       " 'PAS_Mobility.csv',\n",
       " 'Risk_Technology_Risk.csv',\n",
       " 'Risk_Cybersecurity.csv',\n",
       " 'pi_sco.csv',\n",
       " 'pi_finance.csv',\n",
       " 'PI_Technology.csv',\n",
       " 'PAS_Analytics.csv',\n",
       " 'Risk_Transformation.csv',\n",
       " 'Risk_Internal Audit.csv',\n",
       " 'pi_strategy.csv',\n",
       " 'PAS_Reward.csv',\n",
       " 'pi_program management.csv']"
      ]
     },
     "execution_count": 94,
     "metadata": {},
     "output_type": "execute_result"
    }
   ],
   "source": [
    "myfiles"
   ]
  },
  {
   "cell_type": "code",
   "execution_count": 153,
   "metadata": {},
   "outputs": [],
   "source": [
    "# function storing the indices of level starts\n",
    "def levels(path):\n",
    "    \n",
    "    df = pd.read_csv(path,sep=\";\",encoding='latin1')\n",
    "    df = df.filter([\"SSL\",\"LEVEL\",\"CAPABILITY NAME\",\"CAPABILITY DESCRIPTION\"])[df['LEVEL'].notna()]\n",
    "    \n",
    "    n_total = len(df)\n",
    "    n_level3 = len(df[df.LEVEL=='Level 3'])\n",
    "                \n",
    "    l0 = df.index[df['LEVEL']=='Level 0'].tolist()\n",
    "    l0 = [x + 3 for x in l0]\n",
    "    l0.append(n_total)\n",
    "    l1 = df.index[df['LEVEL']=='Level 1'].tolist()\n",
    "    l1 = [x + 2 for x in l1]\n",
    "    l1.append(n_total)              \n",
    "    l2 = df.index[df['LEVEL']=='Level 2'].tolist()\n",
    "    l2 = [x + 1 for x in l2]\n",
    "    l2.append(n_total)              \n",
    "    l3 = df.index[df['LEVEL']=='Level 3'].tolist()\n",
    "    l3.append(n_total)\n",
    "    \n",
    "    column_names = [\"Level 0\", \"Level 1\", \"Level 2\",\"Level 3\",\"Capability Description\"]\n",
    "    new = pd.DataFrame(np.zeros((n_total, 5)),columns = column_names)\n",
    "    \n",
    "    # level 0\n",
    "    for i in range(0,len(l0)-1):\n",
    "        new['Level 0'][l0[i]:l0[i+1]] = df[\"CAPABILITY NAME\"][l0[i]-3]\n",
    "        \n",
    "    # level 1\n",
    "    for i in range(0,len(l1)-1):\n",
    "        new['Level 1'][l1[i]:l1[i+1]] = df[\"CAPABILITY NAME\"][l1[i]-2]\n",
    "    \n",
    "    # level 2\n",
    "    for i in range(0,len(l2)-1):\n",
    "        new['Level 2'][l2[i]:l2[i+1]] = df[\"CAPABILITY NAME\"][l2[i]-1]\n",
    "        \n",
    "    # level 3\n",
    "    for i in range(0,len(l3)-1):\n",
    "        new['Level 3'][l3[i]] = df[\"CAPABILITY NAME\"][l3[i]]\n",
    "        new['Capability Description'][l3[i]] = df['CAPABILITY DESCRIPTION'][l3[i]]\n",
    "        \n",
    "    # drop zero values in level 3 rows:\n",
    "    new = new[new['Level 3'] != 0]\n",
    "    \n",
    "    return(new)"
   ]
  },
  {
   "cell_type": "code",
   "execution_count": 154,
   "metadata": {},
   "outputs": [
    {
     "name": "stderr",
     "output_type": "stream",
     "text": [
      "/Library/Frameworks/Python.framework/Versions/3.7/lib/python3.7/site-packages/ipykernel_launcher.py:31: SettingWithCopyWarning: \n",
      "A value is trying to be set on a copy of a slice from a DataFrame\n",
      "\n",
      "See the caveats in the documentation: http://pandas.pydata.org/pandas-docs/stable/user_guide/indexing.html#returning-a-view-versus-a-copy\n",
      "/Library/Frameworks/Python.framework/Versions/3.7/lib/python3.7/site-packages/ipykernel_launcher.py:35: SettingWithCopyWarning: \n",
      "A value is trying to be set on a copy of a slice from a DataFrame\n",
      "\n",
      "See the caveats in the documentation: http://pandas.pydata.org/pandas-docs/stable/user_guide/indexing.html#returning-a-view-versus-a-copy\n",
      "/Library/Frameworks/Python.framework/Versions/3.7/lib/python3.7/site-packages/ipykernel_launcher.py:39: SettingWithCopyWarning: \n",
      "A value is trying to be set on a copy of a slice from a DataFrame\n",
      "\n",
      "See the caveats in the documentation: http://pandas.pydata.org/pandas-docs/stable/user_guide/indexing.html#returning-a-view-versus-a-copy\n",
      "/Library/Frameworks/Python.framework/Versions/3.7/lib/python3.7/site-packages/ipykernel_launcher.py:40: SettingWithCopyWarning: \n",
      "A value is trying to be set on a copy of a slice from a DataFrame\n",
      "\n",
      "See the caveats in the documentation: http://pandas.pydata.org/pandas-docs/stable/user_guide/indexing.html#returning-a-view-versus-a-copy\n"
     ]
    }
   ],
   "source": [
    "frames = []\n",
    "\n",
    "for file in myfiles:\n",
    "    \n",
    "    current_data = levels('/Users/jonasmiosga/Desktop/EY Skills/csvs/'+file)\n",
    "    frames.append(current_data)"
   ]
  },
  {
   "cell_type": "code",
   "execution_count": 157,
   "metadata": {},
   "outputs": [],
   "source": [
    "pd.concat(frames).to_csv(\"/Users/jonasmiosga/Desktop/EY Skills/alldata.csv\",sep=\";\",encoding='latin1')"
   ]
  }
 ],
 "metadata": {
  "kernelspec": {
   "display_name": "Python 3",
   "language": "python",
   "name": "python3"
  },
  "language_info": {
   "codemirror_mode": {
    "name": "ipython",
    "version": 3
   },
   "file_extension": ".py",
   "mimetype": "text/x-python",
   "name": "python",
   "nbconvert_exporter": "python",
   "pygments_lexer": "ipython3",
   "version": "3.7.4"
  }
 },
 "nbformat": 4,
 "nbformat_minor": 2
}
